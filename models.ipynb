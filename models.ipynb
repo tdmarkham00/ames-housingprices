{
 "cells": [
  {
   "attachments": {},
   "cell_type": "markdown",
   "metadata": {},
   "source": [
    "# Read in Data"
   ]
  },
  {
   "cell_type": "code",
   "execution_count": 32,
   "metadata": {},
   "outputs": [],
   "source": [
    "# import data\n",
    "import pandas as pd\n",
    "import numpy as np\n",
    "\n",
    "train = pd.read_csv(\"https://raw.githubusercontent.com/esnt/Data/main/Ames/ames_train.csv\")\n",
    "test = pd.read_csv(\"https://raw.githubusercontent.com/esnt/Data/main/Ames/ames_test.csv\")\n",
    "pid = test['PID'] # seperating the PID for the later export\n",
    "X_test = test.iloc[:,1:80] # Removing PID from the feature list\n",
    "\n",
    "# split training into X and y (test doesn't have y values)\n",
    "X_train = train.iloc[:,1:80]\n",
    "ytrain = train[\"SalePrice\"]\n",
    "\n",
    "# combine X_train and X_test for standardization\n",
    "X_all = pd.concat([X_train, X_test])"
   ]
  },
  {
   "attachments": {},
   "cell_type": "markdown",
   "metadata": {},
   "source": [
    "# Data Cleaning"
   ]
  },
  {
   "cell_type": "code",
   "execution_count": 33,
   "metadata": {},
   "outputs": [],
   "source": [
    "# NA values - fill w/ 0 or DNA\n",
    "cont = ['Lot Frontage', 'Mas Vnr Area', 'BsmtFin SF 1', 'BsmtFin SF 2', 'Bsmt Unf SF', 'Total Bsmt SF', 'Bsmt Full Bath', 'Bsmt Half Bath', 'Garage Yr Blt', 'Garage Cars', 'Garage Area']\n",
    "cat = ['Alley', 'Mas Vnr Type', 'Bsmt Qual', 'Bsmt Cond', 'Bsmt Exposure', 'BsmtFin Type 1', 'BsmtFin Type 2', 'Electrical', 'Fireplace Qu', 'Garage Type', 'Garage Finish', 'Garage Qual', 'Garage Cond', 'Pool QC', 'Fence', 'Misc Feature']\n",
    "\n",
    "X_all.loc[:,cont] = X_all.loc[:,cont].fillna(0)\n",
    "X_all.loc[:,cat] = X_all.loc[:,cat].fillna(\"Does Not Apply\")\n",
    "\n",
    "# Categorical to dummy\n",
    "X_all = pd.get_dummies(X_all)\n",
    "columns = X_all.columns # Pulling out column names to determine most important features later\n",
    "\n",
    "# standardize\n",
    "from sklearn.preprocessing import StandardScaler\n",
    "scaler = StandardScaler()\n",
    "Xall = scaler.fit_transform(X_all)\n",
    "\n",
    "# split back into training/test\n",
    "Xtrain = Xall[:1758,:]\n",
    "Xtest = Xall[1758:, :]"
   ]
  },
  {
   "attachments": {},
   "cell_type": "markdown",
   "metadata": {},
   "source": [
    "# Lasso"
   ]
  },
  {
   "cell_type": "code",
   "execution_count": 34,
   "metadata": {},
   "outputs": [
    {
     "data": {
      "text/plain": [
       "617.1456961471429"
      ]
     },
     "execution_count": 34,
     "metadata": {},
     "output_type": "execute_result"
    }
   ],
   "source": [
    "# tune alpha hyperparameter\n",
    "from sklearn.linear_model import Lasso, LassoCV\n",
    "\n",
    "l_cv = LassoCV(cv = 10)\n",
    "l_cv.fit(Xtrain, ytrain)\n",
    "l_cv.alpha_"
   ]
  },
  {
   "cell_type": "code",
   "execution_count": 35,
   "metadata": {},
   "outputs": [
    {
     "data": {
      "text/plain": [
       "Lasso(alpha=617.1456961471429)"
      ]
     },
     "execution_count": 35,
     "metadata": {},
     "output_type": "execute_result"
    }
   ],
   "source": [
    "# fit Lasso with best alpha\n",
    "lasso = Lasso(alpha=l_cv.alpha_)\n",
    "lasso.fit(Xtrain, ytrain)"
   ]
  },
  {
   "cell_type": "code",
   "execution_count": 36,
   "metadata": {},
   "outputs": [
    {
     "name": "stdout",
     "output_type": "stream",
     "text": [
      "MSE: 488753684.09\n",
      "RMSE: 22107.77\n",
      "MAE: 13952.36\n",
      "Y Standard Deviation: 82296.03\n"
     ]
    }
   ],
   "source": [
    "from sklearn.metrics import mean_squared_error\n",
    "from sklearn.metrics import mean_absolute_error\n",
    "\n",
    "# metrics for Lasso\n",
    "print(f\"MSE: {round(mean_squared_error(ytrain, l_cv.predict(Xtrain)),2)}\")\n",
    "print(f\"RMSE: {round(np.sqrt(mean_squared_error(ytrain, l_cv.predict(Xtrain))),2)}\")\n",
    "print(f\"MAE: {round(mean_absolute_error(ytrain, l_cv.predict(Xtrain)),2)}\")\n",
    "print(f\"Y Standard Deviation: {round(np.std(ytrain), 2)}\")"
   ]
  },
  {
   "cell_type": "code",
   "execution_count": 41,
   "metadata": {},
   "outputs": [
    {
     "data": {
      "text/plain": [
       "15      Gr Liv Area\n",
       "3      Overall Qual\n",
       "8      BsmtFin SF 1\n",
       "5        Year Built\n",
       "11    Total Bsmt SF\n",
       "Name: Features, dtype: object"
      ]
     },
     "execution_count": 41,
     "metadata": {},
     "output_type": "execute_result"
    }
   ],
   "source": [
    "feature_df = pd.DataFrame({\n",
    "    'Features' : columns,\n",
    "    'Coefficients' : lasso.coef_\n",
    "})\n",
    "feature_df.sort_values(by='Coefficients', ascending=False).head()['Features']"
   ]
  },
  {
   "attachments": {},
   "cell_type": "markdown",
   "metadata": {},
   "source": [
    "# PCA + Lasso"
   ]
  },
  {
   "cell_type": "code",
   "execution_count": 6,
   "metadata": {},
   "outputs": [
    {
     "data": {
      "text/plain": [
       "{'model__alpha': 235, 'pca__n_components': 0.9900000000000001}"
      ]
     },
     "execution_count": 6,
     "metadata": {},
     "output_type": "execute_result"
    }
   ],
   "source": [
    "from sklearn.decomposition import PCA\n",
    "from sklearn.pipeline import Pipeline\n",
    "from sklearn.model_selection import GridSearchCV\n",
    "\n",
    "# run through PCA, then put reduced Xtrain through lasso\n",
    "pipe = Pipeline([('pca', PCA()),\n",
    "                 ('model', Lasso())])\n",
    "\n",
    "# tune both PCA and Lasso hyperparameters\n",
    "params = {\"pca__n_components\": list(np.arange(.9, 1.0, 0.01)),\n",
    "               \"model__alpha\": list(range(200, 402, 5))}\n",
    "\n",
    "search = GridSearchCV(pipe, params, n_jobs=-1, scoring=\"neg_mean_squared_error\")\n",
    "\n",
    "search.fit(Xtrain, ytrain)\n",
    "\n",
    "search.best_params_"
   ]
  },
  {
   "cell_type": "code",
   "execution_count": 7,
   "metadata": {},
   "outputs": [
    {
     "data": {
      "text/plain": [
       "Pipeline(steps=[('pca', PCA(n_components=0.9900000000000001)),\n",
       "                ('model', Lasso(alpha=235))])"
      ]
     },
     "execution_count": 7,
     "metadata": {},
     "output_type": "execute_result"
    }
   ],
   "source": [
    "# fit PCA and Lasso with best hyperparameters\n",
    "lasso_pca = Pipeline([('pca', PCA(n_components= search.best_params_.get('pca__n_components'))),\n",
    "                      ('model', Lasso(alpha = search.best_params_.get('model__alpha')))])\n",
    "\n",
    "lasso_pca.fit(Xtrain, ytrain)"
   ]
  },
  {
   "cell_type": "code",
   "execution_count": 15,
   "metadata": {},
   "outputs": [
    {
     "name": "stdout",
     "output_type": "stream",
     "text": [
      "755566303.5758082\n",
      "27487.566345091524\n",
      "16536.25419683217\n"
     ]
    }
   ],
   "source": [
    "from sklearn.model_selection import cross_val_score\n",
    "\n",
    "# PCA and Lasso metrics\n",
    "mse = cross_val_score(lasso_pca, Xtrain, ytrain, cv=10, scoring=\"neg_mean_squared_error\").mean()*-1\n",
    "print(mse)\n",
    "print(np.sqrt(mse))\n",
    "mae = cross_val_score(lasso_pca, Xtrain, ytrain, cv=10, scoring=\"neg_mean_absolute_error\").mean()*-1\n",
    "print(mae)"
   ]
  },
  {
   "attachments": {},
   "cell_type": "markdown",
   "metadata": {},
   "source": [
    "# PCA + KNN"
   ]
  },
  {
   "cell_type": "code",
   "execution_count": 9,
   "metadata": {},
   "outputs": [
    {
     "data": {
      "text/plain": [
       "{'model__n_neighbors': 9, 'pca__n_components': 0.9}"
      ]
     },
     "execution_count": 9,
     "metadata": {},
     "output_type": "execute_result"
    }
   ],
   "source": [
    "from sklearn.neighbors import KNeighborsRegressor\n",
    "\n",
    "# run through PCA, then put reduced Xtrain through KNN\n",
    "pipe = Pipeline([('pca', PCA()),\n",
    "                 ('model', KNeighborsRegressor())])\n",
    "\n",
    "# tune hyperparameters for PCA and KNN together\n",
    "params = {\"pca__n_components\": list(np.arange(.9, 1.0, 0.01)),\n",
    "               \"model__n_neighbors\": list(range(2, 52))}\n",
    "\n",
    "search = GridSearchCV(pipe, params, n_jobs=-1, scoring=\"neg_mean_squared_error\")\n",
    "\n",
    "search.fit(Xtrain, ytrain)\n",
    "\n",
    "search.best_params_"
   ]
  },
  {
   "cell_type": "code",
   "execution_count": 10,
   "metadata": {},
   "outputs": [
    {
     "data": {
      "text/plain": [
       "Pipeline(steps=[('pca', PCA(n_components=0.9)),\n",
       "                ('model', KNeighborsRegressor(n_neighbors=9))])"
      ]
     },
     "execution_count": 10,
     "metadata": {},
     "output_type": "execute_result"
    }
   ],
   "source": [
    "# fit PCA and KNN with best hyperparameters\n",
    "knn_pca = Pipeline([('pca', PCA(n_components= search.best_params_.get('pca__n_components'))),\n",
    "                      ('model', KNeighborsRegressor(n_neighbors = search.best_params_.get('model__n_neighbors')))])\n",
    "\n",
    "knn_pca.fit(Xtrain, ytrain)"
   ]
  },
  {
   "cell_type": "code",
   "execution_count": 11,
   "metadata": {},
   "outputs": [
    {
     "name": "stdout",
     "output_type": "stream",
     "text": [
      "1651576436.432738\n",
      "40639.59198162228\n"
     ]
    }
   ],
   "source": [
    "# PCA and KNN metrics\n",
    "mse = cross_val_score(knn_pca, Xtrain, ytrain, cv=10, scoring=\"neg_mean_squared_error\").mean()*-1\n",
    "print(mse)\n",
    "print(np.sqrt(mse))\n",
    "mae = cross_val_score(knn_pca, Xtrain, ytrain, cv=10, scoring=\"neg_mean_absolute_error\").mean()*-1\n",
    "print(mae)"
   ]
  },
  {
   "attachments": {},
   "cell_type": "markdown",
   "metadata": {},
   "source": [
    "# Elastic Net"
   ]
  },
  {
   "cell_type": "code",
   "execution_count": 19,
   "metadata": {},
   "outputs": [
    {
     "name": "stdout",
     "output_type": "stream",
     "text": [
      "132.34902023666493\n",
      "0.5\n"
     ]
    }
   ],
   "source": [
    "from sklearn.linear_model import ElasticNet\n",
    "from sklearn.linear_model import ElasticNetCV\n",
    "\n",
    "# try elastic net without PCA\n",
    "# train alpha and l1 ratio hyperparameters\n",
    "en_cv = ElasticNetCV(cv = 10)\n",
    "en_cv.fit(Xtrain, ytrain)\n",
    "print(en_cv.alpha_)\n",
    "print(en_cv.l1_ratio_)\n"
   ]
  },
  {
   "cell_type": "code",
   "execution_count": 20,
   "metadata": {},
   "outputs": [
    {
     "data": {
      "text/plain": [
       "ElasticNet(alpha=132.34902023666493)"
      ]
     },
     "execution_count": 20,
     "metadata": {},
     "output_type": "execute_result"
    }
   ],
   "source": [
    "# fit elastic net with best hyperparameters\n",
    "elastic_net = ElasticNet(alpha = en_cv.alpha_, l1_ratio = en_cv.l1_ratio_)\n",
    "elastic_net.fit(Xtrain, ytrain)"
   ]
  },
  {
   "cell_type": "code",
   "execution_count": 21,
   "metadata": {},
   "outputs": [
    {
     "name": "stdout",
     "output_type": "stream",
     "text": [
      "4774793411.214735\n",
      "69099.8799652701\n",
      "48333.00229243753\n",
      "82296.03061151424\n"
     ]
    }
   ],
   "source": [
    "# metrics for elastic net\n",
    "print(mean_squared_error(ytrain, en_cv.predict(Xtrain)))\n",
    "print(np.sqrt(mean_squared_error(ytrain, en_cv.predict(Xtrain))))\n",
    "print(mean_absolute_error(ytrain, en_cv.predict(Xtrain)))\n",
    "print(np.std(ytrain))"
   ]
  }
 ],
 "metadata": {
  "kernelspec": {
   "display_name": "Python 3",
   "language": "python",
   "name": "python3"
  },
  "language_info": {
   "codemirror_mode": {
    "name": "ipython",
    "version": 3
   },
   "file_extension": ".py",
   "mimetype": "text/x-python",
   "name": "python",
   "nbconvert_exporter": "python",
   "pygments_lexer": "ipython3",
   "version": "3.10.2"
  },
  "orig_nbformat": 4,
  "vscode": {
   "interpreter": {
    "hash": "aee8b7b246df8f9039afb4144a1f6fd8d2ca17a180786b69acc140d282b71a49"
   }
  }
 },
 "nbformat": 4,
 "nbformat_minor": 2
}
